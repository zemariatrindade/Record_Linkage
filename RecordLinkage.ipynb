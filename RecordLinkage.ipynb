{
 "cells": [
  {
   "cell_type": "markdown",
   "metadata": {},
   "source": [
    "## Record Linkage \n",
    "    \n",
    "**Retailer A and Retailer B**, two large-scale department store chains, have shared their product descriptions datasets for the purpose of cross-promotion, product indexing and targeted marketing.\n",
    "\n",
    "The goal is to identify which products in Retailer B's dataset are also products of Retailer A. This will allow the marketing department to create more personalized product offering campaigns and product indexes.\n",
    "\n",
    "The datasets can be found in CSV format:\n",
    "\n",
    "    - retailerA.csv\n",
    "    - retailerB.csv "
   ]
  },
  {
   "cell_type": "code",
   "execution_count": 1,
   "metadata": {
    "is_executing": true
   },
   "outputs": [
    {
     "name": "stderr",
     "output_type": "stream",
     "text": [
      "[nltk_data] Downloading package punkt to\n",
      "[nltk_data]     /Users/zemariatrindade/nltk_data...\n",
      "[nltk_data]   Package punkt is already up-to-date!\n",
      "[nltk_data] Downloading package stopwords to\n",
      "[nltk_data]     /Users/zemariatrindade/nltk_data...\n",
      "[nltk_data]   Package stopwords is already up-to-date!\n"
     ]
    },
    {
     "name": "stdout",
     "output_type": "stream",
     "text": [
      "Libraries Import Time: 23.425863027572632 seconds\n"
     ]
    }
   ],
   "source": [
    "import time\n",
    "start_time = time.time()\n",
    "\n",
    "# Loading data\n",
    "import pandas as pd\n",
    "\n",
    "# Tokenization and data prep\n",
    "import nltk\n",
    "from nltk.tokenize import word_tokenize\n",
    "from nltk.corpus import stopwords\n",
    "import string\n",
    "\n",
    "nltk.download('punkt') # punctuation words\n",
    "nltk.download('stopwords') # stop words\n",
    "\n",
    "# Entity matching (similarity matrix)\n",
    "from sklearn.feature_extraction.text import TfidfVectorizer\n",
    "from sklearn.metrics.pairwise import cosine_similarity\n",
    "\n",
    "\n",
    "# Entity Clustering\n",
    "\n",
    "import hdbscan # clustering algorithm\n",
    "from sklearn.decomposition import PCA # dimension reduction\n",
    "from mpl_toolkits.mplot3d import Axes3D  # Importing 3D plotting toolkit\n",
    "import numpy as np # for testing\n",
    "import matplotlib.pyplot as plt\n",
    "\n",
    "end_time = time.time()\n",
    "import_time = end_time - start_time\n",
    "print(f\"Libraries Import Time: {import_time} seconds\")"
   ]
  },
  {
   "cell_type": "markdown",
   "metadata": {},
   "source": [
    "### Exploratory Data Analysis and Preparation"
   ]
  },
  {
   "cell_type": "markdown",
   "metadata": {},
   "source": [
    "In this section, I'm going to get an overview of the datasets we are working with, and evaluate what's the best strategy to cluster products across retailers."
   ]
  },
  {
   "cell_type": "code",
   "execution_count": 2,
   "metadata": {},
   "outputs": [],
   "source": [
    "def loadData(csv1_name, csv2_name):\n",
    "        \n",
    "        retailerA = pd.read_csv(\"retailerA.csv\")\n",
    "        retailerB = pd.read_csv(\"retailerB.csv\")\n",
    "\n",
    "        return retailerA, retailerB"
   ]
  },
  {
   "cell_type": "code",
   "execution_count": 3,
   "metadata": {},
   "outputs": [
    {
     "name": "stdout",
     "output_type": "stream",
     "text": [
      "Data Loading Time: 0.15803098678588867 seconds\n"
     ]
    }
   ],
   "source": [
    "start_time = time.time()\n",
    "\n",
    "retailerA, retailerB = loadData(\"retailerA.csv\",\"retailerB.csv\")\n",
    "\n",
    "end_time = time.time()\n",
    "print(f\"Data Loading Time: {end_time - start_time} seconds\")"
   ]
  },
  {
   "cell_type": "code",
   "execution_count": 4,
   "metadata": {},
   "outputs": [
    {
     "name": "stdout",
     "output_type": "stream",
     "text": [
      "<class 'pandas.core.frame.DataFrame'>\n",
      "RangeIndex: 1081 entries, 0 to 1080\n",
      "Data columns (total 4 columns):\n",
      " #   Column       Non-Null Count  Dtype \n",
      "---  ------       --------------  ----- \n",
      " 0   unique_id    1081 non-null   int64 \n",
      " 1   title        1081 non-null   object\n",
      " 2   description  1081 non-null   object\n",
      " 3   price        418 non-null    object\n",
      "dtypes: int64(1), object(3)\n",
      "memory usage: 33.9+ KB\n"
     ]
    }
   ],
   "source": [
    "# Checking the number of products for retailerA\n",
    "retailerA.info() # There are 1081 entries, but the price column only has 418 entries."
   ]
  },
  {
   "cell_type": "code",
   "execution_count": 5,
   "metadata": {},
   "outputs": [
    {
     "name": "stdout",
     "output_type": "stream",
     "text": [
      "<class 'pandas.core.frame.DataFrame'>\n",
      "RangeIndex: 1092 entries, 0 to 1091\n",
      "Data columns (total 4 columns):\n",
      " #   Column       Non-Null Count  Dtype \n",
      "---  ------       --------------  ----- \n",
      " 0   unique_id    1092 non-null   int64 \n",
      " 1   title        1092 non-null   object\n",
      " 2   description  646 non-null    object\n",
      " 3   price        590 non-null    object\n",
      "dtypes: int64(1), object(3)\n",
      "memory usage: 34.3+ KB\n"
     ]
    }
   ],
   "source": [
    "# Checking the number of products for retailerB\n",
    "retailerB.info() # There are 1092 entries for title attribute, but only 646 and 590 for description and price attributes, respectively."
   ]
  },
  {
   "cell_type": "markdown",
   "metadata": {},
   "source": [
    "- At this point, we can say that we will do the entity resolution and clustering to the title atributte given that is the one that can use the most records in each retailer, unless there is a significant amount of duplicates and NaN values."
   ]
  },
  {
   "cell_type": "code",
   "execution_count": 6,
   "metadata": {},
   "outputs": [
    {
     "data": {
      "text/html": [
       "<div>\n",
       "<style scoped>\n",
       "    .dataframe tbody tr th:only-of-type {\n",
       "        vertical-align: middle;\n",
       "    }\n",
       "\n",
       "    .dataframe tbody tr th {\n",
       "        vertical-align: top;\n",
       "    }\n",
       "\n",
       "    .dataframe thead th {\n",
       "        text-align: right;\n",
       "    }\n",
       "</style>\n",
       "<table border=\"1\" class=\"dataframe\">\n",
       "  <thead>\n",
       "    <tr style=\"text-align: right;\">\n",
       "      <th></th>\n",
       "      <th>unique_id</th>\n",
       "      <th>title</th>\n",
       "      <th>description</th>\n",
       "      <th>price</th>\n",
       "    </tr>\n",
       "  </thead>\n",
       "  <tbody>\n",
       "  </tbody>\n",
       "</table>\n",
       "</div>"
      ],
      "text/plain": [
       "Empty DataFrame\n",
       "Columns: [unique_id, title, description, price]\n",
       "Index: []"
      ]
     },
     "execution_count": 6,
     "metadata": {},
     "output_type": "execute_result"
    }
   ],
   "source": [
    "# Let's check if there are duplicates in the title attribute for retailerA\n",
    "retailerA[retailerA[\"title\"].duplicated()]"
   ]
  },
  {
   "cell_type": "code",
   "execution_count": 7,
   "metadata": {},
   "outputs": [
    {
     "data": {
      "text/html": [
       "<div>\n",
       "<style scoped>\n",
       "    .dataframe tbody tr th:only-of-type {\n",
       "        vertical-align: middle;\n",
       "    }\n",
       "\n",
       "    .dataframe tbody tr th {\n",
       "        vertical-align: top;\n",
       "    }\n",
       "\n",
       "    .dataframe thead th {\n",
       "        text-align: right;\n",
       "    }\n",
       "</style>\n",
       "<table border=\"1\" class=\"dataframe\">\n",
       "  <thead>\n",
       "    <tr style=\"text-align: right;\">\n",
       "      <th></th>\n",
       "      <th>unique_id</th>\n",
       "      <th>title</th>\n",
       "      <th>description</th>\n",
       "      <th>price</th>\n",
       "    </tr>\n",
       "  </thead>\n",
       "  <tbody>\n",
       "    <tr>\n",
       "      <th>412</th>\n",
       "      <td>403</td>\n",
       "      <td>Peerless SmartMount 700 Series Articulating Wa...</td>\n",
       "      <td>Peerless SA750PU - Articulating Wall Arm for 3...</td>\n",
       "      <td>NaN</td>\n",
       "    </tr>\n",
       "    <tr>\n",
       "      <th>456</th>\n",
       "      <td>445</td>\n",
       "      <td>The LG Electric SteamDryer</td>\n",
       "      <td>NaN</td>\n",
       "      <td>NaN</td>\n",
       "    </tr>\n",
       "    <tr>\n",
       "      <th>768</th>\n",
       "      <td>755</td>\n",
       "      <td>LG 25.0 Cu.Ft. Total Capacity</td>\n",
       "      <td>NaN</td>\n",
       "      <td>NaN</td>\n",
       "    </tr>\n",
       "    <tr>\n",
       "      <th>769</th>\n",
       "      <td>756</td>\n",
       "      <td>LG 25.0 Cu.Ft. Total Capacity</td>\n",
       "      <td>NaN</td>\n",
       "      <td>NaN</td>\n",
       "    </tr>\n",
       "    <tr>\n",
       "      <th>770</th>\n",
       "      <td>757</td>\n",
       "      <td>LG 25.0 Cu.Ft. Total Capacity</td>\n",
       "      <td>NaN</td>\n",
       "      <td>NaN</td>\n",
       "    </tr>\n",
       "    <tr>\n",
       "      <th>783</th>\n",
       "      <td>770</td>\n",
       "      <td>LG 5.6 cu.ft. Freestanding Electric Range</td>\n",
       "      <td>NaN</td>\n",
       "      <td>NaN</td>\n",
       "    </tr>\n",
       "    <tr>\n",
       "      <th>784</th>\n",
       "      <td>771</td>\n",
       "      <td>LG 5.6 cu.ft. Freestanding Electric Range</td>\n",
       "      <td>NaN</td>\n",
       "      <td>NaN</td>\n",
       "    </tr>\n",
       "    <tr>\n",
       "      <th>785</th>\n",
       "      <td>772</td>\n",
       "      <td>LG 5.6 cu.ft. Freestanding Electric Range</td>\n",
       "      <td>NaN</td>\n",
       "      <td>NaN</td>\n",
       "    </tr>\n",
       "    <tr>\n",
       "      <th>786</th>\n",
       "      <td>773</td>\n",
       "      <td>LG 5.6 cu.ft. Freestanding Electric Range</td>\n",
       "      <td>NaN</td>\n",
       "      <td>NaN</td>\n",
       "    </tr>\n",
       "    <tr>\n",
       "      <th>788</th>\n",
       "      <td>775</td>\n",
       "      <td>LG 5.0 cu.ft. Freestanding Gas Range</td>\n",
       "      <td>NaN</td>\n",
       "      <td>NaN</td>\n",
       "    </tr>\n",
       "    <tr>\n",
       "      <th>789</th>\n",
       "      <td>776</td>\n",
       "      <td>LG 5.0 cu.ft. Freestanding Gas Range</td>\n",
       "      <td>NaN</td>\n",
       "      <td>NaN</td>\n",
       "    </tr>\n",
       "    <tr>\n",
       "      <th>800</th>\n",
       "      <td>786</td>\n",
       "      <td>LG 2.0 cu.ft. Over the Range Microwave Oven</td>\n",
       "      <td>NaN</td>\n",
       "      <td>NaN</td>\n",
       "    </tr>\n",
       "    <tr>\n",
       "      <th>801</th>\n",
       "      <td>787</td>\n",
       "      <td>LG 2.0 cu.ft. Over the Range Microwave Oven</td>\n",
       "      <td>NaN</td>\n",
       "      <td>NaN</td>\n",
       "    </tr>\n",
       "  </tbody>\n",
       "</table>\n",
       "</div>"
      ],
      "text/plain": [
       "     unique_id                                              title  \\\n",
       "412        403  Peerless SmartMount 700 Series Articulating Wa...   \n",
       "456        445                         The LG Electric SteamDryer   \n",
       "768        755                      LG 25.0 Cu.Ft. Total Capacity   \n",
       "769        756                      LG 25.0 Cu.Ft. Total Capacity   \n",
       "770        757                      LG 25.0 Cu.Ft. Total Capacity   \n",
       "783        770          LG 5.6 cu.ft. Freestanding Electric Range   \n",
       "784        771          LG 5.6 cu.ft. Freestanding Electric Range   \n",
       "785        772          LG 5.6 cu.ft. Freestanding Electric Range   \n",
       "786        773          LG 5.6 cu.ft. Freestanding Electric Range   \n",
       "788        775               LG 5.0 cu.ft. Freestanding Gas Range   \n",
       "789        776               LG 5.0 cu.ft. Freestanding Gas Range   \n",
       "800        786        LG 2.0 cu.ft. Over the Range Microwave Oven   \n",
       "801        787        LG 2.0 cu.ft. Over the Range Microwave Oven   \n",
       "\n",
       "                                           description price  \n",
       "412  Peerless SA750PU - Articulating Wall Arm for 3...   NaN  \n",
       "456                                                NaN   NaN  \n",
       "768                                                NaN   NaN  \n",
       "769                                                NaN   NaN  \n",
       "770                                                NaN   NaN  \n",
       "783                                                NaN   NaN  \n",
       "784                                                NaN   NaN  \n",
       "785                                                NaN   NaN  \n",
       "786                                                NaN   NaN  \n",
       "788                                                NaN   NaN  \n",
       "789                                                NaN   NaN  \n",
       "800                                                NaN   NaN  \n",
       "801                                                NaN   NaN  "
      ]
     },
     "execution_count": 7,
     "metadata": {},
     "output_type": "execute_result"
    }
   ],
   "source": [
    "# Let's check if there are duplicates in the title attribute for retailerB\n",
    "retailerB[retailerB[\"title\"].duplicated()] # we have some cases."
   ]
  },
  {
   "cell_type": "markdown",
   "metadata": {},
   "source": [
    "We could drop duplicates here, but it seems that there is no repition of unique IDs and therefore would be dangerours to delete any records."
   ]
  },
  {
   "cell_type": "code",
   "execution_count": 8,
   "metadata": {},
   "outputs": [
    {
     "data": {
      "text/html": [
       "<div>\n",
       "<style scoped>\n",
       "    .dataframe tbody tr th:only-of-type {\n",
       "        vertical-align: middle;\n",
       "    }\n",
       "\n",
       "    .dataframe tbody tr th {\n",
       "        vertical-align: top;\n",
       "    }\n",
       "\n",
       "    .dataframe thead th {\n",
       "        text-align: right;\n",
       "    }\n",
       "</style>\n",
       "<table border=\"1\" class=\"dataframe\">\n",
       "  <thead>\n",
       "    <tr style=\"text-align: right;\">\n",
       "      <th></th>\n",
       "      <th>unique_id</th>\n",
       "      <th>title</th>\n",
       "      <th>description</th>\n",
       "      <th>price</th>\n",
       "    </tr>\n",
       "  </thead>\n",
       "  <tbody>\n",
       "  </tbody>\n",
       "</table>\n",
       "</div>"
      ],
      "text/plain": [
       "Empty DataFrame\n",
       "Columns: [unique_id, title, description, price]\n",
       "Index: []"
      ]
     },
     "execution_count": 8,
     "metadata": {},
     "output_type": "execute_result"
    }
   ],
   "source": [
    "# Let's check for NaN values for retailerA\n",
    "retailerA[retailerA[\"title\"].isna()] # there seems to be no NaN values in the title attribute"
   ]
  },
  {
   "cell_type": "code",
   "execution_count": 9,
   "metadata": {},
   "outputs": [
    {
     "data": {
      "text/html": [
       "<div>\n",
       "<style scoped>\n",
       "    .dataframe tbody tr th:only-of-type {\n",
       "        vertical-align: middle;\n",
       "    }\n",
       "\n",
       "    .dataframe tbody tr th {\n",
       "        vertical-align: top;\n",
       "    }\n",
       "\n",
       "    .dataframe thead th {\n",
       "        text-align: right;\n",
       "    }\n",
       "</style>\n",
       "<table border=\"1\" class=\"dataframe\">\n",
       "  <thead>\n",
       "    <tr style=\"text-align: right;\">\n",
       "      <th></th>\n",
       "      <th>unique_id</th>\n",
       "      <th>title</th>\n",
       "      <th>description</th>\n",
       "      <th>price</th>\n",
       "    </tr>\n",
       "  </thead>\n",
       "  <tbody>\n",
       "  </tbody>\n",
       "</table>\n",
       "</div>"
      ],
      "text/plain": [
       "Empty DataFrame\n",
       "Columns: [unique_id, title, description, price]\n",
       "Index: []"
      ]
     },
     "execution_count": 9,
     "metadata": {},
     "output_type": "execute_result"
    }
   ],
   "source": [
    "# Let's check for NaN values for retailerB\n",
    "retailerB[retailerB[\"title\"].isna()] # there seems to be no NaN values in the title attribute"
   ]
  },
  {
   "cell_type": "code",
   "execution_count": 10,
   "metadata": {},
   "outputs": [
    {
     "name": "stdout",
     "output_type": "stream",
     "text": [
      "Number of title records for retailer A: 1081\n",
      "Number of title records for retailer B: 1092\n"
     ]
    }
   ],
   "source": [
    "print(\"Number of title records for retailer A:\",retailerA[\"title\"].value_counts().sum())\n",
    "print(\"Number of title records for retailer B:\",retailerB[\"title\"].value_counts().sum())"
   ]
  },
  {
   "cell_type": "markdown",
   "metadata": {},
   "source": [
    "**Conclusion**: As a result of this analysis, we will apply the entity resolution to the title attribute of both retailers."
   ]
  },
  {
   "cell_type": "markdown",
   "metadata": {},
   "source": [
    "## Step 1: Data cleaning\n",
    "\n",
    "Performing data cleaning with the help of regex expressions, removal of stopwords and the tokenization of the documents/sentences or paragraphs."
   ]
  },
  {
   "cell_type": "markdown",
   "metadata": {},
   "source": [
    "1. We will use a combined list with all the titles of products from both retailers\n",
    "2. In this exercise, I'm going to use the package NLTK tokenizer.\n",
    "\n",
    "**ChatGPT 3.5**\n",
    "\n",
    "- If our goal is to tokenize titles and you are looking for a lightweight solution, the NLTK (Natural Language Toolkit) library is a good option. NLTK is known for its simplicity and ease of use, and it provides a variety of tokenizers."
   ]
  },
  {
   "cell_type": "code",
   "execution_count": 11,
   "metadata": {},
   "outputs": [],
   "source": [
    "def tokenizeData(df1,df2):\n",
    "   \n",
    "    # Combining titles of retailer A and B in a single list\n",
    "    titles = df1[\"title\"].tolist() + df2[\"title\"].tolist()\n",
    "\n",
    "    # Getting the total number of records of retailerA so we can later split the list in two\n",
    "    nr_of_docs_A = len(df1[\"title\"])\n",
    "    \n",
    "    # Get English stop words and punctuation\n",
    "    stop_words = set(stopwords.words('english'))\n",
    "    punctuation = set(string.punctuation)\n",
    "    \n",
    "    # Tokenizing the list of sentences (\"titles\")\n",
    "    tokenized_titles = [\n",
    "        [word.lower() for word in word_tokenize(title) \n",
    "         if word.lower() not in stop_words and word.lower() not in punctuation] for title in titles]\n",
    "\n",
    "    return tokenized_titles, nr_of_docs_A"
   ]
  },
  {
   "cell_type": "code",
   "execution_count": 12,
   "metadata": {},
   "outputs": [
    {
     "name": "stdout",
     "output_type": "stream",
     "text": [
      "Cleaning Time: 0.2667257785797119 seconds\n"
     ]
    }
   ],
   "source": [
    "start_time = time.time()\n",
    "tokenized_titles, nr_of_docs_A = tokenizeData(retailerA, retailerB)\n",
    "end_time = time.time()\n",
    "print(f\"Cleaning Time: {end_time - start_time} seconds\")"
   ]
  },
  {
   "cell_type": "markdown",
   "metadata": {},
   "source": [
    "## Step 2: Entity Matching\n",
    "\n",
    "For every product record in the retailer A, we need to compute its similarity to every record in retailer B."
   ]
  },
  {
   "cell_type": "code",
   "execution_count": 13,
   "metadata": {},
   "outputs": [],
   "source": [
    "def computeSimilarity(tokenized_titles, nr_of_docs_A):\n",
    "    \n",
    "    # Convert tokenized titles back to strings for TF-IDF\n",
    "    document_texts = [' '.join(tokens) for tokens in tokenized_titles]\n",
    "\n",
    "    # TF-IDF vectorization\n",
    "    vectorizer = TfidfVectorizer()\n",
    "    tfidf_matrix = vectorizer.fit_transform(document_texts)\n",
    "\n",
    "    # At this point there is a long matrix with records being the products and features being tokens \n",
    "    \n",
    "    # Cosine Similarity Matrix between the 2 sets of products combined\n",
    "    cosine_sim_matrix = cosine_similarity(tfidf_matrix, tfidf_matrix)\n",
    "\n",
    "    return cosine_sim_matrix, nr_of_docs_A"
   ]
  },
  {
   "cell_type": "code",
   "execution_count": 14,
   "metadata": {},
   "outputs": [
    {
     "name": "stdout",
     "output_type": "stream",
     "text": [
      "Matching Time: 0.10280966758728027 seconds\n"
     ]
    }
   ],
   "source": [
    "start_time = time.time()\n",
    "cosine_sim_matrix, nr_of_docs_A = computeSimilarity(tokenized_titles, nr_of_docs_A)\n",
    "end_time = time.time()\n",
    "print(f\"Matching Time: {end_time - start_time} seconds\")"
   ]
  },
  {
   "cell_type": "code",
   "execution_count": 15,
   "metadata": {},
   "outputs": [
    {
     "data": {
      "text/html": [
       "<div>\n",
       "<style scoped>\n",
       "    .dataframe tbody tr th:only-of-type {\n",
       "        vertical-align: middle;\n",
       "    }\n",
       "\n",
       "    .dataframe tbody tr th {\n",
       "        vertical-align: top;\n",
       "    }\n",
       "\n",
       "    .dataframe thead th {\n",
       "        text-align: right;\n",
       "    }\n",
       "</style>\n",
       "<table border=\"1\" class=\"dataframe\">\n",
       "  <thead>\n",
       "    <tr style=\"text-align: right;\">\n",
       "      <th></th>\n",
       "      <th>Linksys EtherFast 8-Port 10/100 Switch - EZXS88W</th>\n",
       "      <th>Linksys EtherFast10/100 5-Port Auto-Sensing Switch - EZXS55W</th>\n",
       "      <th>Netgear ProSafe 5 Port 10/100 Desktop Switch - FS105</th>\n",
       "      <th>Belkin F3H982-10 Pro Series High Integrity 10 Feet Monitor Cable - F3H98210</th>\n",
       "      <th>Netgear Prosafe 16 Port 10/100 Rackmount Switch - Black Finish - JFS516NA</th>\n",
       "      <th>LaCie USB 2.0 Floppy Disk Drive - 706018</th>\n",
       "      <th>Canon KP-36IP Color Ink &amp; Paper Set - 7737A001</th>\n",
       "      <th>Kensington Orbit Optical Trackball Mouse - 64327</th>\n",
       "      <th>Linksys EtherFast4116 16-Port 10/100 Ethernet Switch - EF4116</th>\n",
       "      <th>Linksys EtherFast 4124 24-Port Ethernet Switch - EF4124</th>\n",
       "      <th>...</th>\n",
       "      <th>Garmin 010-00577-30 Nvi(r) 885t Travel Assistant</th>\n",
       "      <th>Samsung LN32A450 32' 720p LCD HDTV</th>\n",
       "      <th>Maytag MDB7851AWB Full Console Dishwasher (Black)</th>\n",
       "      <th>Whirlpool DU1100XTPS 24' Undercounter Dishwasher (Stainless Steel)</th>\n",
       "      <th>Canon XH A1S - 3238B001</th>\n",
       "      <th>Sony VAIO FW378J/B Notebook - VGNFW378J/B</th>\n",
       "      <th>Sennheiser CX380 Sennheiser CX 380 Sport II Grey/Orange</th>\n",
       "      <th>IWORK 09 RETAIL-INT DVD - MB942Z/A</th>\n",
       "      <th>IWORK 09 FAMILY PACK-INT DVD - MB943Z/A</th>\n",
       "      <th>CASE MATE CARBON FIBER IPHONE 3G CASE BLACK - IPH3GC-BCF</th>\n",
       "    </tr>\n",
       "  </thead>\n",
       "  <tbody>\n",
       "    <tr>\n",
       "      <th>Linksys EtherFast 8-Port 10/100 Switch - EZXS88W</th>\n",
       "      <td>1.000000</td>\n",
       "      <td>0.410289</td>\n",
       "      <td>0.459142</td>\n",
       "      <td>0.137132</td>\n",
       "      <td>0.390311</td>\n",
       "      <td>0.0</td>\n",
       "      <td>0.0</td>\n",
       "      <td>0.0</td>\n",
       "      <td>0.495500</td>\n",
       "      <td>0.468783</td>\n",
       "      <td>...</td>\n",
       "      <td>0.0</td>\n",
       "      <td>0.0</td>\n",
       "      <td>0.000000</td>\n",
       "      <td>0.0</td>\n",
       "      <td>0.0</td>\n",
       "      <td>0.0</td>\n",
       "      <td>0.0</td>\n",
       "      <td>0.0</td>\n",
       "      <td>0.0</td>\n",
       "      <td>0.000000</td>\n",
       "    </tr>\n",
       "    <tr>\n",
       "      <th>Linksys EtherFast10/100 5-Port Auto-Sensing Switch - EZXS55W</th>\n",
       "      <td>0.410289</td>\n",
       "      <td>1.000000</td>\n",
       "      <td>0.309092</td>\n",
       "      <td>0.000000</td>\n",
       "      <td>0.262755</td>\n",
       "      <td>0.0</td>\n",
       "      <td>0.0</td>\n",
       "      <td>0.0</td>\n",
       "      <td>0.347357</td>\n",
       "      <td>0.255868</td>\n",
       "      <td>...</td>\n",
       "      <td>0.0</td>\n",
       "      <td>0.0</td>\n",
       "      <td>0.000000</td>\n",
       "      <td>0.0</td>\n",
       "      <td>0.0</td>\n",
       "      <td>0.0</td>\n",
       "      <td>0.0</td>\n",
       "      <td>0.0</td>\n",
       "      <td>0.0</td>\n",
       "      <td>0.000000</td>\n",
       "    </tr>\n",
       "    <tr>\n",
       "      <th>Netgear ProSafe 5 Port 10/100 Desktop Switch - FS105</th>\n",
       "      <td>0.459142</td>\n",
       "      <td>0.309092</td>\n",
       "      <td>1.000000</td>\n",
       "      <td>0.129625</td>\n",
       "      <td>0.576691</td>\n",
       "      <td>0.0</td>\n",
       "      <td>0.0</td>\n",
       "      <td>0.0</td>\n",
       "      <td>0.388717</td>\n",
       "      <td>0.205163</td>\n",
       "      <td>...</td>\n",
       "      <td>0.0</td>\n",
       "      <td>0.0</td>\n",
       "      <td>0.000000</td>\n",
       "      <td>0.0</td>\n",
       "      <td>0.0</td>\n",
       "      <td>0.0</td>\n",
       "      <td>0.0</td>\n",
       "      <td>0.0</td>\n",
       "      <td>0.0</td>\n",
       "      <td>0.000000</td>\n",
       "    </tr>\n",
       "    <tr>\n",
       "      <th>Belkin F3H982-10 Pro Series High Integrity 10 Feet Monitor Cable - F3H98210</th>\n",
       "      <td>0.137132</td>\n",
       "      <td>0.000000</td>\n",
       "      <td>0.129625</td>\n",
       "      <td>1.000000</td>\n",
       "      <td>0.110192</td>\n",
       "      <td>0.0</td>\n",
       "      <td>0.0</td>\n",
       "      <td>0.0</td>\n",
       "      <td>0.116098</td>\n",
       "      <td>0.000000</td>\n",
       "      <td>...</td>\n",
       "      <td>0.0</td>\n",
       "      <td>0.0</td>\n",
       "      <td>0.000000</td>\n",
       "      <td>0.0</td>\n",
       "      <td>0.0</td>\n",
       "      <td>0.0</td>\n",
       "      <td>0.0</td>\n",
       "      <td>0.0</td>\n",
       "      <td>0.0</td>\n",
       "      <td>0.000000</td>\n",
       "    </tr>\n",
       "    <tr>\n",
       "      <th>Netgear Prosafe 16 Port 10/100 Rackmount Switch - Black Finish - JFS516NA</th>\n",
       "      <td>0.390311</td>\n",
       "      <td>0.262755</td>\n",
       "      <td>0.576691</td>\n",
       "      <td>0.110192</td>\n",
       "      <td>1.000000</td>\n",
       "      <td>0.0</td>\n",
       "      <td>0.0</td>\n",
       "      <td>0.0</td>\n",
       "      <td>0.454882</td>\n",
       "      <td>0.174407</td>\n",
       "      <td>...</td>\n",
       "      <td>0.0</td>\n",
       "      <td>0.0</td>\n",
       "      <td>0.020831</td>\n",
       "      <td>0.0</td>\n",
       "      <td>0.0</td>\n",
       "      <td>0.0</td>\n",
       "      <td>0.0</td>\n",
       "      <td>0.0</td>\n",
       "      <td>0.0</td>\n",
       "      <td>0.015224</td>\n",
       "    </tr>\n",
       "  </tbody>\n",
       "</table>\n",
       "<p>5 rows × 2173 columns</p>\n",
       "</div>"
      ],
      "text/plain": [
       "                                                    Linksys EtherFast 8-Port 10/100 Switch - EZXS88W  \\\n",
       "Linksys EtherFast 8-Port 10/100 Switch - EZXS88W                                            1.000000   \n",
       "Linksys EtherFast10/100 5-Port Auto-Sensing Swi...                                          0.410289   \n",
       "Netgear ProSafe 5 Port 10/100 Desktop Switch - ...                                          0.459142   \n",
       "Belkin F3H982-10 Pro Series High Integrity 10 F...                                          0.137132   \n",
       "Netgear Prosafe 16 Port 10/100 Rackmount Switch...                                          0.390311   \n",
       "\n",
       "                                                    Linksys EtherFast10/100 5-Port Auto-Sensing Switch - EZXS55W  \\\n",
       "Linksys EtherFast 8-Port 10/100 Switch - EZXS88W                                             0.410289              \n",
       "Linksys EtherFast10/100 5-Port Auto-Sensing Swi...                                           1.000000              \n",
       "Netgear ProSafe 5 Port 10/100 Desktop Switch - ...                                           0.309092              \n",
       "Belkin F3H982-10 Pro Series High Integrity 10 F...                                           0.000000              \n",
       "Netgear Prosafe 16 Port 10/100 Rackmount Switch...                                           0.262755              \n",
       "\n",
       "                                                    Netgear ProSafe 5 Port 10/100 Desktop Switch - FS105  \\\n",
       "Linksys EtherFast 8-Port 10/100 Switch - EZXS88W                                             0.459142      \n",
       "Linksys EtherFast10/100 5-Port Auto-Sensing Swi...                                           0.309092      \n",
       "Netgear ProSafe 5 Port 10/100 Desktop Switch - ...                                           1.000000      \n",
       "Belkin F3H982-10 Pro Series High Integrity 10 F...                                           0.129625      \n",
       "Netgear Prosafe 16 Port 10/100 Rackmount Switch...                                           0.576691      \n",
       "\n",
       "                                                    Belkin F3H982-10 Pro Series High Integrity 10 Feet Monitor Cable - F3H98210  \\\n",
       "Linksys EtherFast 8-Port 10/100 Switch - EZXS88W                                             0.137132                             \n",
       "Linksys EtherFast10/100 5-Port Auto-Sensing Swi...                                           0.000000                             \n",
       "Netgear ProSafe 5 Port 10/100 Desktop Switch - ...                                           0.129625                             \n",
       "Belkin F3H982-10 Pro Series High Integrity 10 F...                                           1.000000                             \n",
       "Netgear Prosafe 16 Port 10/100 Rackmount Switch...                                           0.110192                             \n",
       "\n",
       "                                                    Netgear Prosafe 16 Port 10/100 Rackmount Switch - Black Finish - JFS516NA  \\\n",
       "Linksys EtherFast 8-Port 10/100 Switch - EZXS88W                                             0.390311                           \n",
       "Linksys EtherFast10/100 5-Port Auto-Sensing Swi...                                           0.262755                           \n",
       "Netgear ProSafe 5 Port 10/100 Desktop Switch - ...                                           0.576691                           \n",
       "Belkin F3H982-10 Pro Series High Integrity 10 F...                                           0.110192                           \n",
       "Netgear Prosafe 16 Port 10/100 Rackmount Switch...                                           1.000000                           \n",
       "\n",
       "                                                    LaCie USB 2.0 Floppy Disk Drive - 706018  \\\n",
       "Linksys EtherFast 8-Port 10/100 Switch - EZXS88W                                         0.0   \n",
       "Linksys EtherFast10/100 5-Port Auto-Sensing Swi...                                       0.0   \n",
       "Netgear ProSafe 5 Port 10/100 Desktop Switch - ...                                       0.0   \n",
       "Belkin F3H982-10 Pro Series High Integrity 10 F...                                       0.0   \n",
       "Netgear Prosafe 16 Port 10/100 Rackmount Switch...                                       0.0   \n",
       "\n",
       "                                                    Canon KP-36IP Color Ink & Paper Set - 7737A001  \\\n",
       "Linksys EtherFast 8-Port 10/100 Switch - EZXS88W                                               0.0   \n",
       "Linksys EtherFast10/100 5-Port Auto-Sensing Swi...                                             0.0   \n",
       "Netgear ProSafe 5 Port 10/100 Desktop Switch - ...                                             0.0   \n",
       "Belkin F3H982-10 Pro Series High Integrity 10 F...                                             0.0   \n",
       "Netgear Prosafe 16 Port 10/100 Rackmount Switch...                                             0.0   \n",
       "\n",
       "                                                    Kensington Orbit Optical Trackball Mouse - 64327  \\\n",
       "Linksys EtherFast 8-Port 10/100 Switch - EZXS88W                                                 0.0   \n",
       "Linksys EtherFast10/100 5-Port Auto-Sensing Swi...                                               0.0   \n",
       "Netgear ProSafe 5 Port 10/100 Desktop Switch - ...                                               0.0   \n",
       "Belkin F3H982-10 Pro Series High Integrity 10 F...                                               0.0   \n",
       "Netgear Prosafe 16 Port 10/100 Rackmount Switch...                                               0.0   \n",
       "\n",
       "                                                    Linksys EtherFast4116 16-Port 10/100 Ethernet Switch - EF4116  \\\n",
       "Linksys EtherFast 8-Port 10/100 Switch - EZXS88W                                             0.495500               \n",
       "Linksys EtherFast10/100 5-Port Auto-Sensing Swi...                                           0.347357               \n",
       "Netgear ProSafe 5 Port 10/100 Desktop Switch - ...                                           0.388717               \n",
       "Belkin F3H982-10 Pro Series High Integrity 10 F...                                           0.116098               \n",
       "Netgear Prosafe 16 Port 10/100 Rackmount Switch...                                           0.454882               \n",
       "\n",
       "                                                    Linksys EtherFast 4124 24-Port Ethernet Switch - EF4124  \\\n",
       "Linksys EtherFast 8-Port 10/100 Switch - EZXS88W                                             0.468783         \n",
       "Linksys EtherFast10/100 5-Port Auto-Sensing Swi...                                           0.255868         \n",
       "Netgear ProSafe 5 Port 10/100 Desktop Switch - ...                                           0.205163         \n",
       "Belkin F3H982-10 Pro Series High Integrity 10 F...                                           0.000000         \n",
       "Netgear Prosafe 16 Port 10/100 Rackmount Switch...                                           0.174407         \n",
       "\n",
       "                                                    ...  \\\n",
       "Linksys EtherFast 8-Port 10/100 Switch - EZXS88W    ...   \n",
       "Linksys EtherFast10/100 5-Port Auto-Sensing Swi...  ...   \n",
       "Netgear ProSafe 5 Port 10/100 Desktop Switch - ...  ...   \n",
       "Belkin F3H982-10 Pro Series High Integrity 10 F...  ...   \n",
       "Netgear Prosafe 16 Port 10/100 Rackmount Switch...  ...   \n",
       "\n",
       "                                                    Garmin 010-00577-30 Nvi(r) 885t Travel Assistant  \\\n",
       "Linksys EtherFast 8-Port 10/100 Switch - EZXS88W                                                 0.0   \n",
       "Linksys EtherFast10/100 5-Port Auto-Sensing Swi...                                               0.0   \n",
       "Netgear ProSafe 5 Port 10/100 Desktop Switch - ...                                               0.0   \n",
       "Belkin F3H982-10 Pro Series High Integrity 10 F...                                               0.0   \n",
       "Netgear Prosafe 16 Port 10/100 Rackmount Switch...                                               0.0   \n",
       "\n",
       "                                                    Samsung LN32A450 32' 720p LCD HDTV  \\\n",
       "Linksys EtherFast 8-Port 10/100 Switch - EZXS88W                                   0.0   \n",
       "Linksys EtherFast10/100 5-Port Auto-Sensing Swi...                                 0.0   \n",
       "Netgear ProSafe 5 Port 10/100 Desktop Switch - ...                                 0.0   \n",
       "Belkin F3H982-10 Pro Series High Integrity 10 F...                                 0.0   \n",
       "Netgear Prosafe 16 Port 10/100 Rackmount Switch...                                 0.0   \n",
       "\n",
       "                                                    Maytag MDB7851AWB Full Console Dishwasher (Black)  \\\n",
       "Linksys EtherFast 8-Port 10/100 Switch - EZXS88W                                             0.000000   \n",
       "Linksys EtherFast10/100 5-Port Auto-Sensing Swi...                                           0.000000   \n",
       "Netgear ProSafe 5 Port 10/100 Desktop Switch - ...                                           0.000000   \n",
       "Belkin F3H982-10 Pro Series High Integrity 10 F...                                           0.000000   \n",
       "Netgear Prosafe 16 Port 10/100 Rackmount Switch...                                           0.020831   \n",
       "\n",
       "                                                    Whirlpool DU1100XTPS 24' Undercounter Dishwasher (Stainless Steel)  \\\n",
       "Linksys EtherFast 8-Port 10/100 Switch - EZXS88W                                                  0.0                    \n",
       "Linksys EtherFast10/100 5-Port Auto-Sensing Swi...                                                0.0                    \n",
       "Netgear ProSafe 5 Port 10/100 Desktop Switch - ...                                                0.0                    \n",
       "Belkin F3H982-10 Pro Series High Integrity 10 F...                                                0.0                    \n",
       "Netgear Prosafe 16 Port 10/100 Rackmount Switch...                                                0.0                    \n",
       "\n",
       "                                                    Canon XH A1S - 3238B001  \\\n",
       "Linksys EtherFast 8-Port 10/100 Switch - EZXS88W                        0.0   \n",
       "Linksys EtherFast10/100 5-Port Auto-Sensing Swi...                      0.0   \n",
       "Netgear ProSafe 5 Port 10/100 Desktop Switch - ...                      0.0   \n",
       "Belkin F3H982-10 Pro Series High Integrity 10 F...                      0.0   \n",
       "Netgear Prosafe 16 Port 10/100 Rackmount Switch...                      0.0   \n",
       "\n",
       "                                                    Sony VAIO FW378J/B Notebook - VGNFW378J/B  \\\n",
       "Linksys EtherFast 8-Port 10/100 Switch - EZXS88W                                          0.0   \n",
       "Linksys EtherFast10/100 5-Port Auto-Sensing Swi...                                        0.0   \n",
       "Netgear ProSafe 5 Port 10/100 Desktop Switch - ...                                        0.0   \n",
       "Belkin F3H982-10 Pro Series High Integrity 10 F...                                        0.0   \n",
       "Netgear Prosafe 16 Port 10/100 Rackmount Switch...                                        0.0   \n",
       "\n",
       "                                                    Sennheiser CX380 Sennheiser CX 380 Sport II Grey/Orange  \\\n",
       "Linksys EtherFast 8-Port 10/100 Switch - EZXS88W                                                  0.0         \n",
       "Linksys EtherFast10/100 5-Port Auto-Sensing Swi...                                                0.0         \n",
       "Netgear ProSafe 5 Port 10/100 Desktop Switch - ...                                                0.0         \n",
       "Belkin F3H982-10 Pro Series High Integrity 10 F...                                                0.0         \n",
       "Netgear Prosafe 16 Port 10/100 Rackmount Switch...                                                0.0         \n",
       "\n",
       "                                                    IWORK 09 RETAIL-INT DVD - MB942Z/A  \\\n",
       "Linksys EtherFast 8-Port 10/100 Switch - EZXS88W                                   0.0   \n",
       "Linksys EtherFast10/100 5-Port Auto-Sensing Swi...                                 0.0   \n",
       "Netgear ProSafe 5 Port 10/100 Desktop Switch - ...                                 0.0   \n",
       "Belkin F3H982-10 Pro Series High Integrity 10 F...                                 0.0   \n",
       "Netgear Prosafe 16 Port 10/100 Rackmount Switch...                                 0.0   \n",
       "\n",
       "                                                    IWORK 09 FAMILY PACK-INT DVD - MB943Z/A  \\\n",
       "Linksys EtherFast 8-Port 10/100 Switch - EZXS88W                                        0.0   \n",
       "Linksys EtherFast10/100 5-Port Auto-Sensing Swi...                                      0.0   \n",
       "Netgear ProSafe 5 Port 10/100 Desktop Switch - ...                                      0.0   \n",
       "Belkin F3H982-10 Pro Series High Integrity 10 F...                                      0.0   \n",
       "Netgear Prosafe 16 Port 10/100 Rackmount Switch...                                      0.0   \n",
       "\n",
       "                                                    CASE MATE CARBON FIBER IPHONE 3G CASE BLACK - IPH3GC-BCF  \n",
       "Linksys EtherFast 8-Port 10/100 Switch - EZXS88W                                             0.000000         \n",
       "Linksys EtherFast10/100 5-Port Auto-Sensing Swi...                                           0.000000         \n",
       "Netgear ProSafe 5 Port 10/100 Desktop Switch - ...                                           0.000000         \n",
       "Belkin F3H982-10 Pro Series High Integrity 10 F...                                           0.000000         \n",
       "Netgear Prosafe 16 Port 10/100 Rackmount Switch...                                           0.015224         \n",
       "\n",
       "[5 rows x 2173 columns]"
      ]
     },
     "execution_count": 15,
     "metadata": {},
     "output_type": "execute_result"
    }
   ],
   "source": [
    "# Visualize Cosine similarity in a DataFrame\n",
    "cosine_sim_df = pd.DataFrame(cosine_sim_matrix, index = retailerA[\"title\"].tolist()+retailerB[\"title\"].tolist(), columns = retailerA[\"title\"].tolist()+retailerB[\"title\"].tolist())\n",
    "cosine_sim_df.head()"
   ]
  },
  {
   "cell_type": "markdown",
   "metadata": {},
   "source": [
    "## Step 3: Entity clustering\n",
    "\n",
    "Once entities have been resolved as matches. we need to  merge them in order to produce a single representative record. This involves grouping the entities based on the similarity scores. Entities or records in the same cluster are considered to be the same."
   ]
  },
  {
   "cell_type": "markdown",
   "metadata": {},
   "source": [
    "**Choosing the algorithim**\n",
    "\n",
    "In order to perform Entity Clustering, we are going to use the **HDBSCAN** (Hierarchical Density-Based Spatial Clustering of Applications with Noise).\n",
    "\n",
    "Given that we want to explore clusters in high-dimensional space, we preferably need a algorithm that can identify clusters of arbitrary shapes, while automatically determining the number of clusters.\n",
    "\n",
    "**Chat GPT 3.5:** HDBSCAN (Hierarchical Density-Based Spatial Clustering of Applications with Noise) is typically designed to work with a distance or dissimilarity matrix rather than a similarity matrix. This means that when using HDBSCAN, you would often need to transform your cosine similarity matrix into a dissimilarity matrix.\n",
    "\n",
    "HDBSCAN works with the concept of mutual reachability distance, which is a form of dissimilarity. The common practice is to subtract the similarity values from 1 to obtain dissimilarity values. Therefore, **transforming your cosine similarity matrix to a dissimilarity matrix (e.g., 1 - cosine_similarity_matrix) is a common step when applying HDBSCAN.**"
   ]
  },
  {
   "cell_type": "code",
   "execution_count": 16,
   "metadata": {},
   "outputs": [],
   "source": [
    "def generateClusters(cosine_sim_matrix, nr_of_docs_A):\n",
    "    \n",
    "    # Transform to dissimilarity matrix\n",
    "    dissimilarity_matrix = 1 - cosine_sim_matrix\n",
    "\n",
    "    # Use HDBSCAN with transformed dissimilarity matrix\n",
    "    clusterer = hdbscan.HDBSCAN(min_cluster_size=2, metric='precomputed',gen_min_span_tree=True ).fit(dissimilarity_matrix)\n",
    "    clusters = clusterer.labels_\n",
    "    \n",
    "    # Use PCA for dimensionality reduction\n",
    "    pca = PCA(n_components=3)\n",
    "    reduced_data_to_plot = pca.fit_transform(cosine_sim_matrix)\n",
    "    \n",
    "    # Assign the cluster labels to retailerA df as \"Cluster ID\"\n",
    "    retailerA[\"Cluster ID\"] = clusters[:nr_of_docs_A]\n",
    "    \n",
    "    # Assign the cluster labels to retailerB df as \"Cluster ID\"\n",
    "    retailerB[\"Cluster ID\"] = clusters[nr_of_docs_A:]\n",
    "    \n",
    "    return clusters, reduced_data_to_plot, pca"
   ]
  },
  {
   "cell_type": "code",
   "execution_count": 17,
   "metadata": {},
   "outputs": [
    {
     "name": "stdout",
     "output_type": "stream",
     "text": [
      "Clustering Time: 1.3084280490875244 seconds\n"
     ]
    }
   ],
   "source": [
    "start_time = time.time()\n",
    "clusters, reduced_data_to_plot, pca = generateClusters(cosine_sim_matrix, nr_of_docs_A)\n",
    "end_time = time.time()\n",
    "print(f\"Clustering Time: {end_time - start_time} seconds\")"
   ]
  },
  {
   "cell_type": "markdown",
   "metadata": {},
   "source": [
    "#### Visualization"
   ]
  },
  {
   "cell_type": "markdown",
   "metadata": {},
   "source": [
    "To visualize the entity clustering, we will use Dimensionality Reduction Techniques like PCA (Principal Component Analysis) to reduce the number of features to 3 dimensions."
   ]
  },
  {
   "cell_type": "markdown",
   "metadata": {},
   "source": [
    "- **2-D Representation**"
   ]
  },
  {
   "cell_type": "code",
   "execution_count": 18,
   "metadata": {},
   "outputs": [],
   "source": [
    "def visualize2D(clusters,reduced_data_to_plot):\n",
    "    \n",
    "    for cluster in range(max(set(clusters))):\n",
    "        cluster_points = reduced_data_to_plot[clusters == cluster]\n",
    "        plt.scatter(cluster_points[:, 0], cluster_points[:, 1], label=f'Cluster {cluster + 1}')\n",
    "\n",
    "    plt.title('HDBSCAN Clustering Results')\n",
    "    plt.xlabel('Principal Component 1')\n",
    "    plt.ylabel('Principal Component 2')\n",
    "    plt.show()"
   ]
  },
  {
   "cell_type": "code",
   "execution_count": 19,
   "metadata": {},
   "outputs": [
    {
     "data": {
      "image/png": "[encoded data removed]",
      "text/plain": [
       "<Figure size 640x480 with 1 Axes>"
      ]
     },
     "metadata": {},
     "output_type": "display_data"
    },
    {
     "name": "stdout",
     "output_type": "stream",
     "text": [
      "2D Visualization Time: 3.624194860458374 seconds\n"
     ]
    }
   ],
   "source": [
    "start_time = time.time()\n",
    "visualize2D(clusters,reduced_data_to_plot)\n",
    "end_time = time.time()\n",
    "print(f\"2D Visualization Time: {end_time - start_time} seconds\")"
   ]
  },
  {
   "cell_type": "markdown",
   "metadata": {},
   "source": [
    "- **3-D Representation**"
   ]
  },
  {
   "cell_type": "code",
   "execution_count": 20,
   "metadata": {},
   "outputs": [],
   "source": [
    "def visualize3D(clusters,reduced_data_to_plot):   \n",
    "    \n",
    "    fig = plt.figure(figsize=(10, 8))\n",
    "    ax = fig.add_subplot(111, projection='3d')\n",
    "\n",
    "    for cluster in range(max(set(clusters))):\n",
    "        cluster_points = reduced_data_to_plot[clusters == cluster]\n",
    "        ax.scatter(cluster_points[:, 0], cluster_points[:, 1], cluster_points[:, 2], label=f'Cluster {cluster + 1}')\n",
    "\n",
    "    ax.set_title('HDBSCAN Clustering Results (3D)')\n",
    "    ax.set_xlabel('Principal Component 1')\n",
    "    ax.set_ylabel('Principal Component 2')\n",
    "    ax.set_zlabel('Principal Component 3')\n",
    "    plt.show()"
   ]
  },
  {
   "cell_type": "code",
   "execution_count": 21,
   "metadata": {},
   "outputs": [
    {
     "data": {
      "image/png": "[encoded data removed]",
      "text/plain": [
       "<Figure size 1000x800 with 1 Axes>"
      ]
     },
     "metadata": {},
     "output_type": "display_data"
    },
    {
     "name": "stdout",
     "output_type": "stream",
     "text": [
      "3D Visualization Time: 2.2630772590637207 seconds\n"
     ]
    }
   ],
   "source": [
    "start_time = time.time()\n",
    "visualize3D(clusters,reduced_data_to_plot)\n",
    "end_time = time.time()\n",
    "print(f\"3D Visualization Time: {end_time - start_time} seconds\")"
   ]
  },
  {
   "cell_type": "markdown",
   "metadata": {},
   "source": [
    "- **Tabular Visualization**\n",
    "\n",
    "Retailer A df sorted by Cluster ID (from 1 to 4 included)"
   ]
  },
  {
   "cell_type": "code",
   "execution_count": 28,
   "metadata": {},
   "outputs": [
    {
     "data": {
      "text/html": [
       "<div>\n",
       "<style scoped>\n",
       "    .dataframe tbody tr th:only-of-type {\n",
       "        vertical-align: middle;\n",
       "    }\n",
       "\n",
       "    .dataframe tbody tr th {\n",
       "        vertical-align: top;\n",
       "    }\n",
       "\n",
       "    .dataframe thead th {\n",
       "        text-align: right;\n",
       "    }\n",
       "</style>\n",
       "<table border=\"1\" class=\"dataframe\">\n",
       "  <thead>\n",
       "    <tr style=\"text-align: right;\">\n",
       "      <th></th>\n",
       "      <th>unique_id</th>\n",
       "      <th>title</th>\n",
       "      <th>description</th>\n",
       "      <th>price</th>\n",
       "      <th>Cluster ID</th>\n",
       "    </tr>\n",
       "  </thead>\n",
       "  <tbody>\n",
       "    <tr>\n",
       "      <th>274</th>\n",
       "      <td>273</td>\n",
       "      <td>Panasonic Silver Rice Cooker/Warmer - SRTMB10</td>\n",
       "      <td>Panasonic Silver Rice Cooker/Warmer - SRTMB10/...</td>\n",
       "      <td>NaN</td>\n",
       "      <td>1</td>\n",
       "    </tr>\n",
       "    <tr>\n",
       "      <th>311</th>\n",
       "      <td>310</td>\n",
       "      <td>Panasonic SR-NA18 White Deluxe Fuzzy Logic Ric...</td>\n",
       "      <td>Panasonic SR-NA18 White Deluxe Fuzzy Logic Ric...</td>\n",
       "      <td>NaN</td>\n",
       "      <td>1</td>\n",
       "    </tr>\n",
       "    <tr>\n",
       "      <th>112</th>\n",
       "      <td>112</td>\n",
       "      <td>Kensington MicroSaver Keyed Notebook Lock - 64...</td>\n",
       "      <td>Kensington MicroSaver Keyed Notebook Lock - 64...</td>\n",
       "      <td>NaN</td>\n",
       "      <td>2</td>\n",
       "    </tr>\n",
       "    <tr>\n",
       "      <th>355</th>\n",
       "      <td>354</td>\n",
       "      <td>Kensington Combosaver Ultra Combination Notebo...</td>\n",
       "      <td>Kensington Combosaver Ultra Combination Notebo...</td>\n",
       "      <td>$39.00</td>\n",
       "      <td>2</td>\n",
       "    </tr>\n",
       "    <tr>\n",
       "      <th>266</th>\n",
       "      <td>265</td>\n",
       "      <td>Oregon Scientific AT18 Wearable Waterproof Act...</td>\n",
       "      <td>Oregon Scientific AT18 Wearable Waterproof Act...</td>\n",
       "      <td>NaN</td>\n",
       "      <td>3</td>\n",
       "    </tr>\n",
       "    <tr>\n",
       "      <th>1014</th>\n",
       "      <td>1010</td>\n",
       "      <td>Twenty20 VholdR Mount Adhesive - 2200MA</td>\n",
       "      <td>Twenty20 VholdR Mount Adhesive - 2200MA/ Remov...</td>\n",
       "      <td>$6.00</td>\n",
       "      <td>3</td>\n",
       "    </tr>\n",
       "    <tr>\n",
       "      <th>1028</th>\n",
       "      <td>1024</td>\n",
       "      <td>Twenty20 VholdR Wearable Camcorder Bundle - 1102</td>\n",
       "      <td>Twenty20 VholdR Wearable Camcorder Bundle - 11...</td>\n",
       "      <td>NaN</td>\n",
       "      <td>3</td>\n",
       "    </tr>\n",
       "    <tr>\n",
       "      <th>138</th>\n",
       "      <td>138</td>\n",
       "      <td>Fellowes Confetti Cut Shredder - W11C</td>\n",
       "      <td>Fellowes Confetti Cut Shredder - W11C/ Shreds ...</td>\n",
       "      <td>$79.00</td>\n",
       "      <td>4</td>\n",
       "    </tr>\n",
       "    <tr>\n",
       "      <th>258</th>\n",
       "      <td>257</td>\n",
       "      <td>Fellowes MicroShred Shredder - MS450CS</td>\n",
       "      <td>Fellowes MS-450CS MicroShred Shredder - MS450C...</td>\n",
       "      <td>$189.00</td>\n",
       "      <td>4</td>\n",
       "    </tr>\n",
       "    <tr>\n",
       "      <th>259</th>\n",
       "      <td>258</td>\n",
       "      <td>Fellowes Personal Powershred Shredder - SB97CS</td>\n",
       "      <td>Fellowes Personal Powershred Shredder - SB97CS...</td>\n",
       "      <td>NaN</td>\n",
       "      <td>4</td>\n",
       "    </tr>\n",
       "  </tbody>\n",
       "</table>\n",
       "</div>"
      ],
      "text/plain": [
       "      unique_id                                              title  \\\n",
       "274         273      Panasonic Silver Rice Cooker/Warmer - SRTMB10   \n",
       "311         310  Panasonic SR-NA18 White Deluxe Fuzzy Logic Ric...   \n",
       "112         112  Kensington MicroSaver Keyed Notebook Lock - 64...   \n",
       "355         354  Kensington Combosaver Ultra Combination Notebo...   \n",
       "266         265  Oregon Scientific AT18 Wearable Waterproof Act...   \n",
       "1014       1010            Twenty20 VholdR Mount Adhesive - 2200MA   \n",
       "1028       1024   Twenty20 VholdR Wearable Camcorder Bundle - 1102   \n",
       "138         138              Fellowes Confetti Cut Shredder - W11C   \n",
       "258         257             Fellowes MicroShred Shredder - MS450CS   \n",
       "259         258     Fellowes Personal Powershred Shredder - SB97CS   \n",
       "\n",
       "                                            description    price  Cluster ID  \n",
       "274   Panasonic Silver Rice Cooker/Warmer - SRTMB10/...      NaN           1  \n",
       "311   Panasonic SR-NA18 White Deluxe Fuzzy Logic Ric...      NaN           1  \n",
       "112   Kensington MicroSaver Keyed Notebook Lock - 64...      NaN           2  \n",
       "355   Kensington Combosaver Ultra Combination Notebo...   $39.00           2  \n",
       "266   Oregon Scientific AT18 Wearable Waterproof Act...      NaN           3  \n",
       "1014  Twenty20 VholdR Mount Adhesive - 2200MA/ Remov...    $6.00           3  \n",
       "1028  Twenty20 VholdR Wearable Camcorder Bundle - 11...      NaN           3  \n",
       "138   Fellowes Confetti Cut Shredder - W11C/ Shreds ...   $79.00           4  \n",
       "258   Fellowes MS-450CS MicroShred Shredder - MS450C...  $189.00           4  \n",
       "259   Fellowes Personal Powershred Shredder - SB97CS...      NaN           4  "
      ]
     },
     "execution_count": 28,
     "metadata": {},
     "output_type": "execute_result"
    }
   ],
   "source": [
    "retailerA[(retailerA[\"Cluster ID\"]>0) & (retailerA[\"Cluster ID\"]<5)].sort_values(\"Cluster ID\")"
   ]
  },
  {
   "cell_type": "code",
   "execution_count": 22,
   "metadata": {},
   "outputs": [
    {
     "data": {
      "text/html": [
       "<div>\n",
       "<style scoped>\n",
       "    .dataframe tbody tr th:only-of-type {\n",
       "        vertical-align: middle;\n",
       "    }\n",
       "\n",
       "    .dataframe tbody tr th {\n",
       "        vertical-align: top;\n",
       "    }\n",
       "\n",
       "    .dataframe thead th {\n",
       "        text-align: right;\n",
       "    }\n",
       "</style>\n",
       "<table border=\"1\" class=\"dataframe\">\n",
       "  <thead>\n",
       "    <tr style=\"text-align: right;\">\n",
       "      <th></th>\n",
       "      <th>unique_id</th>\n",
       "      <th>title</th>\n",
       "      <th>description</th>\n",
       "      <th>price</th>\n",
       "      <th>Cluster ID</th>\n",
       "    </tr>\n",
       "  </thead>\n",
       "  <tbody>\n",
       "    <tr>\n",
       "      <th>277</th>\n",
       "      <td>273</td>\n",
       "      <td>Panasonic Srtmb10/Rice Cooker/5.5cup/Fuzzy - S...</td>\n",
       "      <td>NaN</td>\n",
       "      <td>NaN</td>\n",
       "      <td>1</td>\n",
       "    </tr>\n",
       "    <tr>\n",
       "      <th>315</th>\n",
       "      <td>310</td>\n",
       "      <td>Panasonic SR-NA18 10-Cup Rice Cooker/Warmer wi...</td>\n",
       "      <td>NaN</td>\n",
       "      <td>NaN</td>\n",
       "      <td>1</td>\n",
       "    </tr>\n",
       "    <tr>\n",
       "      <th>114</th>\n",
       "      <td>112</td>\n",
       "      <td>Kensington MicroSaver Notebook Lock - 64068F</td>\n",
       "      <td>Steel - 6ft</td>\n",
       "      <td>NaN</td>\n",
       "      <td>2</td>\n",
       "    </tr>\n",
       "    <tr>\n",
       "      <th>359</th>\n",
       "      <td>354</td>\n",
       "      <td>Kensington ComboSaver Ultra Notebook Lock - K6...</td>\n",
       "      <td>Combosaver Ultra Combination Notebook Lock</td>\n",
       "      <td>NaN</td>\n",
       "      <td>2</td>\n",
       "    </tr>\n",
       "    <tr>\n",
       "      <th>1024</th>\n",
       "      <td>1010</td>\n",
       "      <td>VholdR 2200 Mount Adhesive (Black)</td>\n",
       "      <td>NaN</td>\n",
       "      <td>NaN</td>\n",
       "      <td>3</td>\n",
       "    </tr>\n",
       "    <tr>\n",
       "      <th>1038</th>\n",
       "      <td>1024</td>\n",
       "      <td>VholdR Wearable Camcorder (Black) - 1102</td>\n",
       "      <td>NaN</td>\n",
       "      <td>NaN</td>\n",
       "      <td>3</td>\n",
       "    </tr>\n",
       "    <tr>\n",
       "      <th>1042</th>\n",
       "      <td>1028</td>\n",
       "      <td>Battery and Bag Bundle for Panasonic Camcorder...</td>\n",
       "      <td>NaN</td>\n",
       "      <td>NaN</td>\n",
       "      <td>3</td>\n",
       "    </tr>\n",
       "    <tr>\n",
       "      <th>142</th>\n",
       "      <td>138</td>\n",
       "      <td>Fellowes Powershred Personal W11C Shredder - 3...</td>\n",
       "      <td>Cross Cut - 11 Per Pass - 5.5 Gallon Wastebasket</td>\n",
       "      <td>NaN</td>\n",
       "      <td>4</td>\n",
       "    </tr>\n",
       "    <tr>\n",
       "      <th>261</th>\n",
       "      <td>257</td>\n",
       "      <td>Fellowes MicroShred MS-450Cs Shredder - 3245001</td>\n",
       "      <td>Micro Cut - 7 Per Pass</td>\n",
       "      <td>$185.99</td>\n",
       "      <td>4</td>\n",
       "    </tr>\n",
       "    <tr>\n",
       "      <th>262</th>\n",
       "      <td>258</td>\n",
       "      <td>Fellowes Powershred Personal SB-97Cs Confetti ...</td>\n",
       "      <td>Cross Cut - 17 Per Pass</td>\n",
       "      <td>$240.67</td>\n",
       "      <td>4</td>\n",
       "    </tr>\n",
       "  </tbody>\n",
       "</table>\n",
       "</div>"
      ],
      "text/plain": [
       "      unique_id                                              title  \\\n",
       "277         273  Panasonic Srtmb10/Rice Cooker/5.5cup/Fuzzy - S...   \n",
       "315         310  Panasonic SR-NA18 10-Cup Rice Cooker/Warmer wi...   \n",
       "114         112       Kensington MicroSaver Notebook Lock - 64068F   \n",
       "359         354  Kensington ComboSaver Ultra Notebook Lock - K6...   \n",
       "1024       1010                 VholdR 2200 Mount Adhesive (Black)   \n",
       "1038       1024           VholdR Wearable Camcorder (Black) - 1102   \n",
       "1042       1028  Battery and Bag Bundle for Panasonic Camcorder...   \n",
       "142         138  Fellowes Powershred Personal W11C Shredder - 3...   \n",
       "261         257    Fellowes MicroShred MS-450Cs Shredder - 3245001   \n",
       "262         258  Fellowes Powershred Personal SB-97Cs Confetti ...   \n",
       "\n",
       "                                           description    price  Cluster ID  \n",
       "277                                                NaN      NaN           1  \n",
       "315                                                NaN      NaN           1  \n",
       "114                                        Steel - 6ft      NaN           2  \n",
       "359         Combosaver Ultra Combination Notebook Lock      NaN           2  \n",
       "1024                                               NaN      NaN           3  \n",
       "1038                                               NaN      NaN           3  \n",
       "1042                                               NaN      NaN           3  \n",
       "142   Cross Cut - 11 Per Pass - 5.5 Gallon Wastebasket      NaN           4  \n",
       "261                             Micro Cut - 7 Per Pass  $185.99           4  \n",
       "262                            Cross Cut - 17 Per Pass  $240.67           4  "
      ]
     },
     "execution_count": 22,
     "metadata": {},
     "output_type": "execute_result"
    }
   ],
   "source": [
    "retailerB[(retailerB[\"Cluster ID\"]>0) & (retailerB[\"Cluster ID\"]<5)].sort_values(\"Cluster ID\")"
   ]
  },
  {
   "cell_type": "markdown",
   "metadata": {},
   "source": [
    "#### Testing the algorithm\n",
    "To test the amount of cumulative explained variance captured by the model we runned the following test. One can say that we might have to increase the number of components in order to get a higher cum explained variance."
   ]
  },
  {
   "cell_type": "code",
   "execution_count": 24,
   "metadata": {},
   "outputs": [],
   "source": [
    "def testAlgorithm(pca):\n",
    "    # Get the explained variance ratio for each component\n",
    "    explained_variance_ratio = pca.explained_variance_ratio_\n",
    "\n",
    "    # Get the cumulative explained variance\n",
    "    cumulative_variance = np.cumsum(explained_variance_ratio)\n",
    "\n",
    "    # Print the cumulative explained variance\n",
    "    print(\"Cumulative Explained Variance with 3 components:\")\n",
    "    print(cumulative_variance)"
   ]
  },
  {
   "cell_type": "code",
   "execution_count": 25,
   "metadata": {},
   "outputs": [
    {
     "name": "stdout",
     "output_type": "stream",
     "text": [
      "Cumulative Explained Variance with 3 components:\n",
      "[0.12243246 0.18899022 0.24055199]\n"
     ]
    }
   ],
   "source": [
    "testAlgorithm(pca)"
   ]
  },
  {
   "cell_type": "markdown",
   "metadata": {},
   "source": [
    "## Step 4: Writing Results"
   ]
  },
  {
   "cell_type": "code",
   "execution_count": 26,
   "metadata": {},
   "outputs": [],
   "source": [
    "def writeDataToDisk(output_filename):\n",
    "    # TO-DO\n",
    "    \n",
    "    if output_filename == \"RetailerA_updated.csv\":\n",
    "        # Saving the updated retailerA df back to csv file\n",
    "        retailerA.to_csv(\"RetailerA_updated.csv\")\n",
    "\n",
    "    elif output_filename == \"RetailerB_updated.csv\":\n",
    "        # Saving the updated retailerB df back to csv file\n",
    "        retailerB.to_csv(\"RetailerB_updated.csv\")    \n",
    "    else:\n",
    "        print(\"File not available\")"
   ]
  },
  {
   "cell_type": "code",
   "execution_count": 27,
   "metadata": {},
   "outputs": [],
   "source": [
    "# Only run this cell, if the files are not yet in your directory\n",
    "writeDataToDisk(\"RetailerA_updated.csv\")\n",
    "writeDataToDisk(\"RetailerB_updated.csv\")"
   ]
  },
  {
   "cell_type": "markdown",
   "metadata": {},
   "source": [
    "### Extras\n",
    "\n",
    "#### Entity Blocking (a.k.a indexing):\n",
    "\n",
    "(with Chat GPT 3.5) I conducted some research and I found that, specially in our special case, blocking is not strictly necessary for every entity resolution task, especially with a smaller dataset like ours.\n",
    "With a dataset of 2,000 records, the scale might be manageable for direct comparison without blocking, especially if the computational resources are sufficient.\n",
    "\n",
    "#### End-to-end Pipeline\n",
    "\n",
    "In this section we will train all the steps in one instance and track the time it took to go end-to-end in the pipeline.\n",
    "\n",
    "If you got to this stage and you want to skip all the steps, you can just run the 2nd cell (import libraries) and the next 2 cells of this notebook to get a end-to-end view of the pipeline."
   ]
  },
  {
   "cell_type": "code",
   "execution_count": 2,
   "metadata": {},
   "outputs": [],
   "source": [
    "# Functions composing the whole Pipeline in one place\n",
    "\n",
    "start_time = time.time()\n",
    "\n",
    "def loadData(csv1_name, csv2_name):\n",
    "    \n",
    "        retailerA = pd.read_csv(\"retailerA.csv\")\n",
    "        retailerB = pd.read_csv(\"retailerB.csv\")\n",
    "\n",
    "        return retailerA, retailerB\n",
    "    \n",
    "def tokenizeData(df1,df2):\n",
    "   \n",
    "    # Combining titles of retailer A and B in a single list\n",
    "    titles = df1[\"title\"].tolist() + df2[\"title\"].tolist()\n",
    "\n",
    "    # Getting the total number of records of retailerA so we can later split the list in two\n",
    "    nr_of_docs_A = len(df1[\"title\"])\n",
    "    \n",
    "    # Get English stop words and punctuation\n",
    "    stop_words = set(stopwords.words('english'))\n",
    "    punctuation = set(string.punctuation)\n",
    "    \n",
    "    # Tokenizing the list of sentences (\"titles\")\n",
    "    tokenized_titles = [\n",
    "        [word.lower() for word in word_tokenize(title) \n",
    "         if word.lower() not in stop_words and word.lower() not in punctuation] for title in titles]\n",
    "\n",
    "    return tokenized_titles, nr_of_docs_A\n",
    "\n",
    "def computeSimilarity(tokenized_titles, nr_of_docs_A):\n",
    "    \n",
    "    # Convert tokenized titles back to strings for TF-IDF\n",
    "    document_texts = [' '.join(tokens) for tokens in tokenized_titles]\n",
    "\n",
    "    # TF-IDF vectorization\n",
    "    vectorizer = TfidfVectorizer()\n",
    "    tfidf_matrix = vectorizer.fit_transform(document_texts)\n",
    "\n",
    "    # At this point there is a long matrix with records being the products and features being tokens \n",
    "    \n",
    "    # Cosine Similarity Matrix between the 2 sets of products combined\n",
    "    cosine_sim_matrix = cosine_similarity(tfidf_matrix, tfidf_matrix)\n",
    "\n",
    "    return cosine_sim_matrix, nr_of_docs_A\n",
    "\n",
    "def generateClusters(cosine_sim_matrix, nr_of_docs_A):\n",
    "    \n",
    "    # Transform to dissimilarity matrix\n",
    "    dissimilarity_matrix = 1 - cosine_sim_matrix\n",
    "\n",
    "    # Use HDBSCAN with transformed dissimilarity matrix\n",
    "    clusterer = hdbscan.HDBSCAN(min_cluster_size=2, metric='precomputed',gen_min_span_tree=True ).fit(dissimilarity_matrix)\n",
    "    clusters = clusterer.labels_\n",
    "    \n",
    "    # Use PCA for dimensionality reduction\n",
    "    pca = PCA(n_components=3)\n",
    "    reduced_data_to_plot = pca.fit_transform(cosine_sim_matrix)\n",
    "    \n",
    "    # Assign the cluster labels to retailerA df as \"Cluster ID\"\n",
    "    retailerA[\"Cluster ID\"] = clusters[:nr_of_docs_A]\n",
    "    \n",
    "    # Assign the cluster labels to retailerB df as \"Cluster ID\"\n",
    "    retailerB[\"Cluster ID\"] = clusters[nr_of_docs_A:]\n",
    "    \n",
    "    return clusters, reduced_data_to_plot, pca"
   ]
  },
  {
   "cell_type": "code",
   "execution_count": 3,
   "metadata": {},
   "outputs": [
    {
     "name": "stdout",
     "output_type": "stream",
     "text": [
      "Import Time: 4.995297193527222 seconds\n",
      "Pipeline Time: 3.1770660877227783 seconds\n",
      "End-to-end Pipeline Time: 8.17236328125 seconds\n"
     ]
    }
   ],
   "source": [
    "retailerA, retailerB = loadData(\"retailerA.csv\",\"retailerB.csv\")\n",
    "clusters, reduced_data_to_plot, pca = generateClusters(*computeSimilarity\n",
    "                                                           (*tokenizeData(*loadData(\"retailerA.csv\",\"retailerB.csv\"))))\n",
    "\n",
    "end_time = time.time()\n",
    "pipeline_time = end_time - start_time \n",
    "\n",
    "print(f\"Import Time: {import_time} seconds\")\n",
    "print(f\"Pipeline Time: {pipeline_time} seconds\")\n",
    "print(f\"End-to-end Pipeline Time: {import_time + pipeline_time} seconds\")\n"
   ]
  },
  {
   "cell_type": "code",
   "execution_count": null,
   "metadata": {},
   "outputs": [],
   "source": []
  }
 ],
 "metadata": {
  "kernelspec": {
   "display_name": "Python 3 (ipykernel)",
   "language": "python",
   "name": "python3"
  },
  "language_info": {
   "codemirror_mode": {
    "name": "ipython",
    "version": 3
   },
   "file_extension": ".py",
   "mimetype": "text/x-python",
   "name": "python",
   "nbconvert_exporter": "python",
   "pygments_lexer": "ipython3",
   "version": "3.12.0"
  }
 },
 "nbformat": 4,
 "nbformat_minor": 4
}
